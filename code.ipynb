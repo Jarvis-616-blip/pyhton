{
 "cells": [
  {
   "cell_type": "markdown",
   "metadata": {},
   "source": [
    "**Starting With Pandas**\n",
    "\n"
   ]
  },
  {
   "cell_type": "code",
   "execution_count": null,
   "metadata": {},
   "outputs": [
    {
     "ename": "",
     "evalue": "",
     "output_type": "error",
     "traceback": [
      "\u001b[1;31mRunning cells with 'Python 3.13.3' requires the ipykernel package.\n",
      "\u001b[1;31m<a href='command:jupyter.createPythonEnvAndSelectController'>Create a Python Environment</a> with the required packages."
     ]
    }
   ],
   "source": [
    "import pandas as pd\n"
   ]
  },
  {
   "cell_type": "code",
   "execution_count": 2,
   "metadata": {},
   "outputs": [
    {
     "name": "stdout",
     "output_type": "stream",
     "text": [
      "2.2.3\n"
     ]
    }
   ],
   "source": [
    "print(pd.__version__)"
   ]
  },
  {
   "cell_type": "markdown",
   "metadata": {},
   "source": [
    "**Create series in Pandas**"
   ]
  },
  {
   "cell_type": "code",
   "execution_count": 3,
   "metadata": {},
   "outputs": [
    {
     "name": "stdout",
     "output_type": "stream",
     "text": [
      "a    10\n",
      "b    30\n",
      "c    20\n",
      "dtype: int64\n"
     ]
    }
   ],
   "source": [
    "s = pd.Series([10, 30, 20], index=[\"a\", \"b\", \"c\"])\n",
    "print(s)"
   ]
  },
  {
   "cell_type": "markdown",
   "metadata": {},
   "source": [
    "**Sort Values**"
   ]
  },
  {
   "cell_type": "code",
   "execution_count": 4,
   "metadata": {},
   "outputs": [
    {
     "name": "stdout",
     "output_type": "stream",
     "text": [
      "a    10\n",
      "c    20\n",
      "b    30\n",
      "dtype: int64\n"
     ]
    }
   ],
   "source": [
    "print(s.sort_values())"
   ]
  },
  {
   "cell_type": "markdown",
   "metadata": {},
   "source": [
    "**Create a DataFrame**"
   ]
  },
  {
   "cell_type": "code",
   "execution_count": 5,
   "metadata": {},
   "outputs": [
    {
     "name": "stdout",
     "output_type": "stream",
     "text": [
      "      calories  duration\n",
      "day1       420        50\n",
      "day2       380        40\n",
      "day3       390        45\n"
     ]
    }
   ],
   "source": [
    "df = pd.DataFrame({\"calories\": [420, 380, 390], \"duration\": [50, 40, 45]},\n",
    "index=[\"day1\", \"day2\", \"day3\"])\n",
    "print(df)\n",
    "\n"
   ]
  },
  {
   "cell_type": "markdown",
   "metadata": {},
   "source": [
    "**Convert a Dictionary to Pandas series:**"
   ]
  },
  {
   "cell_type": "code",
   "execution_count": 6,
   "metadata": {},
   "outputs": [
    {
     "name": "stdout",
     "output_type": "stream",
     "text": [
      "a    1\n",
      "b    2\n",
      "c    3\n",
      "dtype: int64\n"
     ]
    }
   ],
   "source": [
    "data = {\"a\": 1, \"b\": 2, \"c\": 3}\n",
    "series = pd.Series(data)\n",
    "print(series)"
   ]
  },
  {
   "cell_type": "markdown",
   "metadata": {},
   "source": [
    "**DataFrame Opreation**"
   ]
  },
  {
   "cell_type": "code",
   "execution_count": 7,
   "metadata": {},
   "outputs": [],
   "source": [
    "df = pd.DataFrame({\"calories\": [420, 380, 390], \"duration\": [50, 40, 45]},\n",
    "index=[\"day1\", \"day2\", \"day3\"])\n",
    "\n",
    "\n"
   ]
  },
  {
   "cell_type": "code",
   "execution_count": 9,
   "metadata": {},
   "outputs": [
    {
     "name": "stdout",
     "output_type": "stream",
     "text": [
      "      energy  duration\n",
      "day1     420        50\n",
      "day2     380        40\n",
      "day3     390        45\n",
      "      energy  duration\n",
      "day1     420        50\n",
      "day2     380        40\n",
      "day3     390        45\n",
      "<class 'pandas.core.frame.DataFrame'>\n",
      "Index: 3 entries, day1 to day3\n",
      "Data columns (total 2 columns):\n",
      " #   Column    Non-Null Count  Dtype\n",
      "---  ------    --------------  -----\n",
      " 0   energy    3 non-null      int64\n",
      " 1   duration  3 non-null      int64\n",
      "dtypes: int64(2)\n",
      "memory usage: 72.0+ bytes\n",
      "(3, 2) None            energy  duration\n",
      "count    3.000000       3.0\n",
      "mean   396.666667      45.0\n",
      "std     20.816660       5.0\n",
      "min    380.000000      40.0\n",
      "25%    385.000000      42.5\n",
      "50%    390.000000      45.0\n",
      "75%    405.000000      47.5\n",
      "max    420.000000      50.0\n"
     ]
    }
   ],
   "source": [
    "print(df.head())\n",
    "print(df.tail())\n",
    "df.rename(columns={\"calories\": \"energy\"}, inplace=True)\n",
    "print(df.shape, df.info(), df.describe())\n"
   ]
  },
  {
   "cell_type": "code",
   "execution_count": 13,
   "metadata": {},
   "outputs": [
    {
     "name": "stdout",
     "output_type": "stream",
     "text": [
      "day1    50\n",
      "day2    40\n",
      "day3    45\n",
      "Name: duration, dtype: int64\n",
      "420\n",
      "      energy  duration\n",
      "day1     420        50\n",
      "day2     380        40\n"
     ]
    }
   ],
   "source": [
    "print(df[\"duration\"])\n",
    "print(df.iloc[0, 0])\n",
    "print(df.loc[\"day1\":\"day2\",:\"calories\"])\n",
    "df.drop(columns=[\"duration\"], inplace=True)"
   ]
  }
 ],
 "metadata": {
  "kernelspec": {
   "display_name": "Python 3",
   "language": "python",
   "name": "python3"
  },
  "language_info": {
   "codemirror_mode": {
    "name": "ipython",
    "version": 3
   },
   "file_extension": ".py",
   "mimetype": "text/x-python",
   "name": "python",
   "nbconvert_exporter": "python",
   "pygments_lexer": "ipython3",
   "version": "3.13.3"
  }
 },
 "nbformat": 4,
 "nbformat_minor": 2
}
