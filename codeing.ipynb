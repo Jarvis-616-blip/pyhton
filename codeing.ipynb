{
 "cells": [
  {
   "cell_type": "code",
   "execution_count": null,
   "id": "a7ee6e03",
   "metadata": {},
   "outputs": [
    {
     "name": "stdout",
     "output_type": "stream",
     "text": [
      "2\n",
      "0    2\n",
      "1    3\n",
      "2    4\n",
      "dtype: int64\n",
      "0    True\n",
      "1    True\n",
      "2    True\n",
      "3    True\n",
      "dtype: bool\n",
      "4\n",
      "0    2\n",
      "1    8\n",
      "2    5\n",
      "3    6\n",
      "dtype: int64\n",
      "A    2\n",
      "B    3\n",
      "C    4\n",
      "D    5\n",
      "dtype: int64\n",
      "0    2\n",
      "1    8\n",
      "2    5\n",
      "3    6\n",
      "dtype: int64\n",
      "0    2\n",
      "1    8\n",
      "2    5\n",
      "3    6\n",
      "dtype: int64\n",
      "A    2\n",
      "B    8\n",
      "C    5\n",
      "D    6\n",
      "dtype: int64\n"
     ]
    },
    {
     "data": {
      "text/plain": [
       "<function matplotlib.pyplot.show(close=None, block=None)>"
      ]
     },
     "execution_count": 4,
     "metadata": {},
     "output_type": "execute_result"
    },
    {
     "data": {
      "image/png": "[encoded data removed]",
      "text/plain": [
       "<Figure size 640x480 with 1 Axes>"
      ]
     },
     "metadata": {},
     "output_type": "display_data"
    }
   ],
   "source": [
    "import numpy as np\n",
    "import pandas as pd\n",
    "import matplotlib.pyplot as plt\n",
    "\n",
    "Series1 = pd.Series([2,3,4,5])\n",
    "Series2 = pd.Series([2,8,5,6,])\n",
    "print(Series1[0])\n",
    "print(Series1[:3])\n",
    "\n",
    "temp = Series1<8\n",
    "print(temp)\n",
    "\n",
    "a = len(Series1)\n",
    "print(a)\n",
    "\n",
    "Series1=Series2\n",
    "print(Series2)\n",
    "Series1.index =['A','B','C','D']\n",
    "print(Series1)\n",
    "print(Series2)\n",
    "Series1 = Series2.copy()\n",
    "print(Series2)\n",
    "Series1.index =['A','B','C','D']\n",
    "print(Series1)\n",
    "\n",
    "def AddSeries(x,y):\n",
    "    for i in range(x):\n",
    "        print(x[i] + y[i])\n",
    "    AddSeries(Series1,Series2)\n",
    "    \n",
    "\n",
    "plt.plot(Series1,Series2)\n",
    "plt.ylabel('index')\n",
    "plt.show\n",
    "    "
   ]
  },
  {
   "cell_type": "code",
   "execution_count": 6,
   "id": "8dbf8726",
   "metadata": {},
   "outputs": [
    {
     "name": "stdout",
     "output_type": "stream",
     "text": [
      "         test2  project  test2\n",
      "First       20      NaN     20\n",
      "Seconed     20     20.0     20\n",
      "\n",
      "\n",
      "          Project  test1  test2\n",
      "first         NaN     10     20\n",
      "seceoned      NaN     30     20\n"
     ]
    }
   ],
   "source": [
    "import pandas as pd\n",
    "\n",
    "data = [{'test1':10, 'test2':20},{'test1':30,'test2':20,'project':20}]\n",
    "df1 = pd.DataFrame(data,index=['First','Seconed'],\n",
    "columns = ['test2', 'project','test2'])\n",
    "df2 = pd.DataFrame(data,index=['first','seceoned'],\n",
    "                   columns =['Project', 'test1','test2'])\n",
    "print(df1)\n",
    "print(\"\\n\")\n",
    "\n",
    "print(df2)"
   ]
  },
  {
   "cell_type": "code",
   "execution_count": 7,
   "id": "5b45d3ec",
   "metadata": {},
   "outputs": [
    {
     "name": "stdout",
     "output_type": "stream",
     "text": [
      "         test1  test2\n",
      "Rajnish    NaN   80.0\n",
      "billy     50.0    NaN\n",
      "jack      50.0    NaN\n",
      "john      40.0    NaN\n",
      "rahib      NaN   60.0\n",
      "yash       NaN   90.0\n"
     ]
    }
   ],
   "source": [
    "data = {'test1' : pd.Series([50,50,40], index=[\"jack\",\"billy\",\"john\"]),\n",
    "        'test2': pd.Series([80,90,60],index=[\"Rajnish\",\"yash\",\"rahib\"])}\n",
    "df3 = pd.DataFrame(data)\n",
    "print(df3)"
   ]
  },
  {
   "cell_type": "code",
   "execution_count": 8,
   "id": "a74862bd",
   "metadata": {},
   "outputs": [
    {
     "data": {
      "text/html": [
       "<div>\n",
       "<style scoped>\n",
       "    .dataframe tbody tr th:only-of-type {\n",
       "        vertical-align: middle;\n",
       "    }\n",
       "\n",
       "    .dataframe tbody tr th {\n",
       "        vertical-align: top;\n",
       "    }\n",
       "\n",
       "    .dataframe thead th {\n",
       "        text-align: right;\n",
       "    }\n",
       "</style>\n",
       "<table border=\"1\" class=\"dataframe\">\n",
       "  <thead>\n",
       "    <tr style=\"text-align: right;\">\n",
       "      <th></th>\n",
       "      <th>test2</th>\n",
       "      <th>test1</th>\n",
       "    </tr>\n",
       "  </thead>\n",
       "  <tbody>\n",
       "    <tr>\n",
       "      <th>Rajnish</th>\n",
       "      <td>80.0</td>\n",
       "      <td>NaN</td>\n",
       "    </tr>\n",
       "    <tr>\n",
       "      <th>billy</th>\n",
       "      <td>NaN</td>\n",
       "      <td>50.0</td>\n",
       "    </tr>\n",
       "    <tr>\n",
       "      <th>jack</th>\n",
       "      <td>NaN</td>\n",
       "      <td>50.0</td>\n",
       "    </tr>\n",
       "    <tr>\n",
       "      <th>john</th>\n",
       "      <td>NaN</td>\n",
       "      <td>40.0</td>\n",
       "    </tr>\n",
       "    <tr>\n",
       "      <th>rahib</th>\n",
       "      <td>60.0</td>\n",
       "      <td>NaN</td>\n",
       "    </tr>\n",
       "    <tr>\n",
       "      <th>yash</th>\n",
       "      <td>90.0</td>\n",
       "      <td>NaN</td>\n",
       "    </tr>\n",
       "  </tbody>\n",
       "</table>\n",
       "</div>"
      ],
      "text/plain": [
       "         test2  test1\n",
       "Rajnish   80.0    NaN\n",
       "billy      NaN   50.0\n",
       "jack       NaN   50.0\n",
       "john       NaN   40.0\n",
       "rahib     60.0    NaN\n",
       "yash      90.0    NaN"
      ]
     },
     "execution_count": 8,
     "metadata": {},
     "output_type": "execute_result"
    }
   ],
   "source": [
    "df3.iloc[:,[1,0]]"
   ]
  },
  {
   "cell_type": "code",
   "execution_count": 12,
   "id": "8a26cfaa",
   "metadata": {},
   "outputs": [
    {
     "data": {
      "text/html": [
       "<div>\n",
       "<style scoped>\n",
       "    .dataframe tbody tr th:only-of-type {\n",
       "        vertical-align: middle;\n",
       "    }\n",
       "\n",
       "    .dataframe tbody tr th {\n",
       "        vertical-align: top;\n",
       "    }\n",
       "\n",
       "    .dataframe thead th {\n",
       "        text-align: right;\n",
       "    }\n",
       "</style>\n",
       "<table border=\"1\" class=\"dataframe\">\n",
       "  <thead>\n",
       "    <tr style=\"text-align: right;\">\n",
       "      <th></th>\n",
       "      <th>test1</th>\n",
       "      <th>test2</th>\n",
       "    </tr>\n",
       "  </thead>\n",
       "  <tbody>\n",
       "    <tr>\n",
       "      <th>john</th>\n",
       "      <td>40.0</td>\n",
       "      <td>NaN</td>\n",
       "    </tr>\n",
       "    <tr>\n",
       "      <th>rahib</th>\n",
       "      <td>NaN</td>\n",
       "      <td>60.0</td>\n",
       "    </tr>\n",
       "    <tr>\n",
       "      <th>yash</th>\n",
       "      <td>NaN</td>\n",
       "      <td>90.0</td>\n",
       "    </tr>\n",
       "  </tbody>\n",
       "</table>\n",
       "</div>"
      ],
      "text/plain": [
       "       test1  test2\n",
       "john    40.0    NaN\n",
       "rahib    NaN   60.0\n",
       "yash     NaN   90.0"
      ]
     },
     "execution_count": 12,
     "metadata": {},
     "output_type": "execute_result"
    }
   ],
   "source": [
    "df3.iloc[3:,[0,1]]"
   ]
  },
  {
   "cell_type": "code",
   "execution_count": 21,
   "id": "8e5a67ef",
   "metadata": {},
   "outputs": [
    {
     "name": "stdout",
     "output_type": "stream",
     "text": [
      "         test1  test2\n",
      "Rajnish    NaN   80.0\n",
      "billy     50.0    NaN\n",
      "jack      50.0    NaN\n",
      "john      40.0    NaN\n",
      "rahib      NaN   60.0\n",
      "yash       NaN   90.0\n",
      "         test1  test2  project  average\n",
      "Rajnish    NaN   80.0      NaN      NaN\n",
      "billy     50.0    NaN      NaN      NaN\n",
      "jack      50.0    NaN     30.0      NaN\n",
      "john      40.0    NaN     80.0      NaN\n",
      "rahib      NaN   60.0      NaN      NaN\n",
      "yash       NaN   90.0      NaN      NaN\n"
     ]
    }
   ],
   "source": [
    "data = {'test1' : pd.Series([50,50,40], index=[\"jack\",\"billy\",\"john\"]),\n",
    "        'test2': pd.Series([80,90,60],index=[\"Rajnish\",\"yash\",\"rahib\"])}\n",
    "\n",
    "df4 = pd.DataFrame(data)\n",
    "print(df4)\n",
    "df4['project'] = pd.Series([80,90,30],\n",
    "                           index=['john','aurthor','jack'])\n",
    "df4['average'] = round((df3['test1']+df3['test2']+df4['project'])/3,2)\n",
    "print(df4)\n",
    "\n",
    "                "
   ]
  },
  {
   "cell_type": "code",
   "execution_count": null,
   "id": "81777b2c",
   "metadata": {},
   "outputs": [],
   "source": []
  }
 ],
 "metadata": {
  "kernelspec": {
   "display_name": "Python 3",
   "language": "python",
   "name": "python3"
  },
  "language_info": {
   "codemirror_mode": {
    "name": "ipython",
    "version": 3
   },
   "file_extension": ".py",
   "mimetype": "text/x-python",
   "name": "python",
   "nbconvert_exporter": "python",
   "pygments_lexer": "ipython3",
   "version": "3.13.5"
  }
 },
 "nbformat": 4,
 "nbformat_minor": 5
}
