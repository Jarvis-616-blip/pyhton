{
 "cells": [
  {
   "cell_type": "code",
   "execution_count": null,
   "id": "c0efc26e",
   "metadata": {},
   "outputs": [
    {
     "data": {
      "text/plain": [
       "<function destroyAllWindows>"
      ]
     },
     "execution_count": 4,
     "metadata": {},
     "output_type": "execute_result"
    }
   ],
   "source": [
    "import cv2\n",
    "image_path=r'spiderman.jpeg'\n",
    "image=cv2.imread(image_path)\n",
    "cv2.imshow('Sample Image',image)\n",
    "\n",
    "cv2.waitKey(0)\n",
    "cv2.destroyAllWindows"
   ]
  },
  {
   "cell_type": "code",
   "execution_count": 3,
   "id": "5baca9c5",
   "metadata": {},
   "outputs": [
    {
     "name": "stdout",
     "output_type": "stream",
     "text": [
      "(2160, 3840, 3)\n"
     ]
    }
   ],
   "source": [
    "print(image.shape)"
   ]
  },
  {
   "cell_type": "code",
   "execution_count": null,
   "id": "e294781f",
   "metadata": {},
   "outputs": [
    {
     "data": {
      "text/plain": [
       "<function destroyAllWindows>"
      ]
     },
     "execution_count": 2,
     "metadata": {},
     "output_type": "execute_result"
    }
   ],
   "source": [
    "import cv2\n",
    "image_path=r'spiderman.jpeg'\n",
    "image=cv2.imread(image_path)\n",
    "grey = cv2.cvtColor(image,cv2.COLOR_BGR2GRAY)\n",
    "cv2.imshow('original image', image)\n",
    "cv2.imshow('Grey image', grey)\n",
    "cv2.waitKey(0)\n",
    "cv2.destroyAllWindows()"
   ]
  },
  {
   "cell_type": "code",
   "execution_count": 25,
   "id": "c76dbe7b",
   "metadata": {},
   "outputs": [
    {
     "data": {
      "text/plain": [
       "<function destroyAllWindows>"
      ]
     },
     "execution_count": 25,
     "metadata": {},
     "output_type": "execute_result"
    }
   ],
   "source": [
    "import cv2\n",
    "image_path=r'spiderman.jpeg'\n",
    "image=cv2.imread(image_path)\n",
    "resize= cv2.resize(image,(50,10))\n",
    "cv2.imshow('original image', image)\n",
    "cv2.imshow('Resize image', image)\n",
    "cv2.waitKey(0)\n",
    "cv2.destroyAllWindows"
   ]
  },
  {
   "cell_type": "code",
   "execution_count": 24,
   "id": "36dd5bd9",
   "metadata": {},
   "outputs": [],
   "source": [
    "import cv2\n",
    "image_path=r'spiderman.jpeg'\n",
    "image=cv2.imread(image_path)\n",
    "text = 'Spider man'\n",
    "coodinates = (100,100)\n",
    "Fonts = cv2.FONT_HERSHEY_SIMPLEX\n",
    "fontscale = 1\n",
    "colour = (100,255,255)\n",
    "thickness= 2\n",
    "\n",
    "text2 = cv2.putText(image,text,coodinates,Fonts,fontscale,colour,thickness)\n",
    "cv2.imshow('original image', image)\n",
    "cv2.imshow('Text2 image', text2)\n",
    "cv2.waitKey(0)\n",
    "cv2.destroyAllWindows()"
   ]
  },
  {
   "cell_type": "code",
   "execution_count": 36,
   "id": "87db7a84",
   "metadata": {},
   "outputs": [],
   "source": [
    "import cv2\n",
    "image_path=r'spiderman.jpeg'\n",
    "image=cv2.imread(image_path)\n",
    "colour = (100,255,255)\n",
    "thickness= 2\n",
    "start_point = (0,0)\n",
    "end_point = (3000,3000)\n",
    "\n",
    "image = cv2.line(image,start_point,end_point,colour,thickness)\n",
    "cv2.imshow('line image', image)\n",
    "cv2.waitKey(0)\n",
    "cv2.destroyAllWindows()\n"
   ]
  }
 ],
 "metadata": {
  "kernelspec": {
   "display_name": "Python 3",
   "language": "python",
   "name": "python3"
  },
  "language_info": {
   "codemirror_mode": {
    "name": "ipython",
    "version": 3
   },
   "file_extension": ".py",
   "mimetype": "text/x-python",
   "name": "python",
   "nbconvert_exporter": "python",
   "pygments_lexer": "ipython3",
   "version": "3.13.5"
  }
 },
 "nbformat": 4,
 "nbformat_minor": 5
}
